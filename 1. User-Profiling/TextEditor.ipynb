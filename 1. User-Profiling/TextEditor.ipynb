{
 "cells": [
  {
   "cell_type": "code",
   "execution_count": 7,
   "metadata": {},
   "outputs": [],
   "source": [
    "from tkinter import *\n",
    "\n",
    "root = Tk()\n",
    "root.geometry(\"350x250\")\n",
    "root.title(\"Text Here!\")\n",
    "root.minsize(height=250, width=350)\n",
    "root.maxsize(height=250, width=350)\n",
    "\n",
    "\n",
    "# adding scrollbar\n",
    "scrollbar = Scrollbar(root)\n",
    "\n",
    "# packing scrollbar\n",
    "scrollbar.pack(side=RIGHT,\n",
    "\t\t\tfill=Y)\n",
    "\n",
    "\n",
    "text_info = Text(root,\n",
    "\t\t\t\tyscrollcommand=scrollbar.set)\n",
    "text_info.pack(fill=BOTH)\n",
    "\n",
    "# configuring the scrollbar\n",
    "scrollbar.config(command=text_info.yview)\n",
    "\n",
    "root.mainloop()\n"
   ]
  },
  {
   "cell_type": "code",
   "execution_count": null,
   "metadata": {},
   "outputs": [],
   "source": [
    "def read_data(str a):\n",
    "    text = a"
   ]
  }
 ],
 "metadata": {
  "kernelspec": {
   "display_name": "Python 3.8.2 64-bit",
   "language": "python",
   "name": "python38264bit12851b5be9844c75ade5d7d376f600cc"
  },
  "language_info": {
   "codemirror_mode": {
    "name": "ipython",
    "version": 3
   },
   "file_extension": ".py",
   "mimetype": "text/x-python",
   "name": "python",
   "nbconvert_exporter": "python",
   "pygments_lexer": "ipython3",
   "version": "3.8.2"
  }
 },
 "nbformat": 4,
 "nbformat_minor": 4
}
